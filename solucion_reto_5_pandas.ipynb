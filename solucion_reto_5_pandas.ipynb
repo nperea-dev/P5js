{
  "nbformat": 4,
  "nbformat_minor": 0,
  "metadata": {
    "colab": {
      "name": "solucion_reto_5_pandas.ipynb",
      "provenance": [],
      "collapsed_sections": [],
      "authorship_tag": "ABX9TyNxLyFUKCeJ4VK3iK3s1mZq",
      "include_colab_link": true
    },
    "kernelspec": {
      "name": "python3",
      "display_name": "Python 3"
    },
    "language_info": {
      "name": "python"
    }
  },
  "cells": [
    {
      "cell_type": "markdown",
      "metadata": {
        "id": "view-in-github",
        "colab_type": "text"
      },
      "source": [
        "<a href=\"https://colab.research.google.com/github/nperea75-gh/P5js/blob/gh-pages/solucion_reto_5_pandas.ipynb\" target=\"_parent\"><img src=\"https://colab.research.google.com/assets/colab-badge.svg\" alt=\"Open In Colab\"/></a>"
      ]
    },
    {
      "cell_type": "code",
      "source": [
        "!wget https://raw.githubusercontent.com/nperea75-gh/reto5/main/GLOBANT.csv"
      ],
      "metadata": {
        "id": "pyGhV4pRx3jM"
      },
      "execution_count": null,
      "outputs": []
    },
    {
      "cell_type": "markdown",
      "source": [
        "#dar run en la casilla anterior para bajar el GLOBANT.CSV"
      ],
      "metadata": {
        "id": "aLD0JppN3jhB"
      }
    },
    {
      "cell_type": "code",
      "source": [
        "import pandas as pd\n",
        "import csv\n",
        "import json\n",
        "#variante con pandas\n",
        "df=pd.read_csv(\"GLOBANT.csv\")\n",
        "df.columns\n",
        "#GENERANDO LOS NUEVAS COLUMNAS PARA EL ARCHIVO CSV CON PANDAS\n",
        "df[\"an_dia\"] = df[\"Close\"] - df[\"Open\"]\n",
        "df.loc[df['an_dia']>0,\"cmp_acc\" ]=\"SUBE\" \n",
        "df.loc[df['an_dia']<0,\"cmp_acc\" ]=\"BAJA\"\n",
        "df.loc[df['an_dia']==0,\"cmp_acc\" ]=\"ESTABLE\"\n",
        "df[\"punt_med\"]=(df[\"High\"]-df[\"Low\"])/2\n",
        "#CREANO EL DF PARA EL ARCHIVO\n",
        "df_analisis=df[[\"Date\",\"cmp_acc\",\"punt_med\"]]\n",
        "df_analisis.columns=[\"fecha\",\"comportamiento de la accion\",\"punto medio HIGH-LOW\"] #SE DEFINE CABECERA\n",
        "df_analisis.to_csv(\"analisis.csv\",sep ='\\t') #SE CREA ARCHIVO CSV\n",
        "#GENERANDO LAS VARIABLES PARA EL ARCHIVO JSON CON PANDAS\n",
        "json_dict = dict(\n",
        "date_lowest_price = df.loc[df[\"Low\"].idxmin(),\"Date\"],\n",
        "lowest_price = df.Low.min(),\n",
        "date_highest_price = df.loc[df[\"High\"].idxmax(),\"Date\"],\n",
        "highest_price = df.High.max(),\n",
        "cantidad_veces_sube = int((df['cmp_acc']==\"SUBE\").sum()),\n",
        "cantidad_veces_baja = int((df['cmp_acc']==\"BAJA\").sum()),\n",
        "cantidad_veces_estable = int((df['cmp_acc']==\"ESTABLE\").sum()),\n",
        ")\n",
        "#crear el archivo json con python.\n",
        "import json\n",
        "with open('detalles.json', 'w') as json_file:\n",
        "  json.dump(json_dict, json_file) #usamos dump para serializar el dict \n",
        "                                        #como archivo JSON\n",
        "with open(\"detalles.json\",\"r\") as json_detalles:\n",
        "  print(json_detalles.read())\n",
        "\n",
        "\n",
        "\n"
      ],
      "metadata": {
        "colab": {
          "base_uri": "https://localhost:8080/"
        },
        "id": "VRFN0-5SAOGT",
        "outputId": "ec8dddb2-9c9e-47f2-c21b-1c43d7658f57"
      },
      "execution_count": 6,
      "outputs": [
        {
          "output_type": "stream",
          "name": "stdout",
          "text": [
            "{\"date_lowest_price\": \"2021-05-13\", \"lowest_price\": 202.580002, \"date_highest_price\": \"2021-11-09\", \"highest_price\": 354.619995, \"cantidad_veces_sube\": 124, \"cantidad_veces_baja\": 128, \"cantidad_veces_estable\": 0}\n"
          ]
        }
      ]
    }
  ]
}